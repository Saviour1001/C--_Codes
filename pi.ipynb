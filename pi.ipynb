{
 "metadata": {
  "language_info": {
   "codemirror_mode": {
    "name": "ipython",
    "version": 3
   },
   "file_extension": ".py",
   "mimetype": "text/x-python",
   "name": "python",
   "nbconvert_exporter": "python",
   "pygments_lexer": "ipython3",
   "version": "3.8.3-final"
  },
  "orig_nbformat": 2,
  "kernelspec": {
   "name": "python3",
   "display_name": "Python 3"
  }
 },
 "nbformat": 4,
 "nbformat_minor": 2,
 "cells": [
  {
   "cell_type": "code",
   "execution_count": 3,
   "metadata": {},
   "outputs": [],
   "source": [
    "import random\n",
    "def pi(n):\n",
    "    points_in_circle=0\n",
    "    points_in_square=0\n",
    "    for _ in range(n):\n",
    "        x=random.uniform(0,1)\n",
    "        y=random.uniform(0,1)\n",
    "        if(x**2+y**2<=1):\n",
    "            points_in_circle+=1\n",
    "        points_in_square+=1\n",
    "    return 4*points_in_circle/points_in_square"
   ]
  },
  {
   "cell_type": "code",
   "execution_count": 12,
   "metadata": {},
   "outputs": [
    {
     "output_type": "stream",
     "name": "stdout",
     "text": [
      "Wall time: 2min 13s\n"
     ]
    },
    {
     "output_type": "execute_result",
     "data": {
      "text/plain": [
       "3.14160744"
      ]
     },
     "metadata": {},
     "execution_count": 12
    }
   ],
   "source": [
    "%%time\n",
    "pi(100000000)"
   ]
  },
  {
   "cell_type": "code",
   "execution_count": null,
   "metadata": {},
   "outputs": [],
   "source": []
  }
 ]
}